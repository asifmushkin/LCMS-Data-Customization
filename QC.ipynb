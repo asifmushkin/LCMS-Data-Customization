{
 "cells": [
  {
   "cell_type": "markdown",
   "metadata": {},
   "source": [
    "### To find duplicate features"
   ]
  },
  {
   "cell_type": "code",
   "execution_count": 4,
   "metadata": {},
   "outputs": [],
   "source": [
    "Duplicate_fc_list = []\n",
    "def is_Duplicate(x):\n",
    "    if x in Duplicate_fc_list :\n",
    "        return x\n",
    "    else:\n",
    "        Duplicate_fc_list .append(x)\n",
    "        return \"\""
   ]
  },
  {
   "cell_type": "markdown",
   "metadata": {},
   "source": [
    "### To find duplicate length"
   ]
  },
  {
   "cell_type": "code",
   "execution_count": 2,
   "metadata": {},
   "outputs": [],
   "source": [
    "lenList = []\n",
    "def lenCheck(x):\n",
    "    length = len(x)\n",
    "    if length != 10:\n",
    "        lenList.append(x)\n",
    "        return \"\"\n",
    "    else:\n",
    "        return x"
   ]
  },
  {
   "cell_type": "markdown",
   "metadata": {},
   "source": [
    "### To find duplicate shapelength\n",
    "\n",
    "* comparsion between shape legth and chainage difference "
   ]
  },
  {
   "cell_type": "code",
   "execution_count": 3,
   "metadata": {},
   "outputs": [],
   "source": [
    "shpLenList = []\n",
    "def shapLen(x,y,z):\n",
    "    dif = z - y\n",
    "    if x != dif:\n",
    "        dif_1 = x -dif\n",
    "        shpLenList.append(dif_1)\n",
    "        return dif_1\n",
    "    else:\n",
    "        return \"\"\n",
    "        "
   ]
  }
 ],
 "metadata": {
  "kernelspec": {
   "display_name": "Python 3",
   "language": "python",
   "name": "python3"
  },
  "language_info": {
   "codemirror_mode": {
    "name": "ipython",
    "version": 3
   },
   "file_extension": ".py",
   "mimetype": "text/x-python",
   "name": "python",
   "nbconvert_exporter": "python",
   "pygments_lexer": "ipython3",
   "version": "3.11.2"
  }
 },
 "nbformat": 4,
 "nbformat_minor": 2
}
