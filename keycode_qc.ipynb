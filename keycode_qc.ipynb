{
 "cells": [
  {
   "cell_type": "markdown",
   "metadata": {},
   "source": [
    "#### Quality checks for keycode"
   ]
  },
  {
   "cell_type": "code",
   "execution_count": null,
   "metadata": {},
   "outputs": [],
   "source": [
    "\n",
    "arcpy.env.workspace = r'D:\\_2.Programming\\_6.test\\test.gdb'\n",
    "keycode = 'Keycode_tbl' #                0          1            2          3              4               5           6          7\n",
    "with arcpy.da.SearchCursor(keycode, [\"COMMENT_1\",\"OBJECTID\",\"EVENT_DESC\",\"COMMENT\",\"CHAINAGE_START\",\"CHAINAGE_END\",\"LENGTH\",\"FRAME_START\",\n",
    "                                    \"FRAME_END\"]) as cursor:\n",
    "    for row in cursor:#                  8\n",
    "        if \"*\" in row[0] and row[0].count(\"*\") > 1:                               # check for more than one multiplication sign\n",
    "            print(f\"invalid value!! for object id:{row[1]} which is {row[0]} \")\n",
    "        elif \"*\" in row[0] and row[0].count(\".\") > 2:                             # check for more than two dots for area distress\n",
    "            print(f\"invalid value!! for object id:{row[1]} which is {row[0]} \")\n",
    "        elif \"*\" not in row[0] and row[0].count(\".\") > 1:                         # check for more than one dot . for linear distress\n",
    "            print(f\"invalid value!! for object id:{row[1]} which is {row[0]} \")\n",
    "        elif row[2] not in (\"REMARKS\",\"PAVEMENT MARKING\") and row[3] == \"\":       # check for missing severity for distress's \n",
    "            print(f\"missing severity rate for object id: {row[1]}\")\n",
    "        elif (abs(row[4] - row[5]) - row[6]) > 1:                                 # check for distress length and difference btw survey chainage start & end\n",
    "            print (f\"invalid!! error in distres L or survey start and end chainage for object id: {row[1]}\")\n",
    "        elif (abs((row[7] - row[8])*5) > abs(row[4] - row[5])) > 1:               # check for frame start end length and survey start end difference greater than 1\n",
    "            print (f\"invalid!! error in frame start & end and survey chainage start & end for object id: {row[1]}\")\n",
    "        \n",
    "            \n",
    "     "
   ]
  }
 ],
 "metadata": {
  "language_info": {
   "name": "python"
  }
 },
 "nbformat": 4,
 "nbformat_minor": 2
}
