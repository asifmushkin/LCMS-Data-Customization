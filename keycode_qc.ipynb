{
 "cells": [
  {
   "cell_type": "markdown",
   "metadata": {},
   "source": [
    "#### Quality checks for keycode"
   ]
  },
  {
   "cell_type": "code",
   "execution_count": 1,
   "metadata": {},
   "outputs": [
    {
     "name": "stdout",
     "output_type": "stream",
     "text": [
      "Check for missing severity for object ID 761 which is \n",
      "Check for missing severity for object ID 1805 which is \n",
      "Check for missing severity for object ID 2489 which is \n",
      "Check for more than two decimals in quantity for object ID 2925 which is 0..2*0.33\n",
      "Check for missing severity for object ID 2996 which is \n",
      "Check for missing severity for object ID 3064 which is \n",
      "Check for missing severity for object ID 4033 which is \n",
      "Check for missing severity for object ID 4098 which is \n",
      "Check for missing severity for object ID 4137 which is \n",
      "Check for missing severity for object ID 4283 which is \n",
      "Check for more than two decimals in quantity for object ID 4317 which is 1.28*0.0.10\n",
      "Check for missing severity for object ID 4368 which is \n",
      "Check for missing severity for object ID 4373 which is \n",
      "Check for more than one decimal in quantity for object ID 4389 which is 22.350.30\n",
      "Check for more than one decimal in quantity for object ID 4742 which is 1.30.25\n",
      "DataFrame successfully exported to Excel file: D:\\_1.Project\\AACM\\Pavement\\Excel Workbook\\Distress_Workbook\\QC_Distress.xlsx\n"
     ]
    }
   ],
   "source": [
    "import arcpy\n",
    "import pandas as pd\n",
    "\n",
    "arcpy.env.workspace = r\"D:\\_1.Project\\AACM\\Pavement\\GDB\\Distress Data Extraction.gdb\"\n",
    "qc_dict = {'ID': [], 'Remarks': []}\n",
    "keycode = 'Keycode_tbl'\n",
    "\n",
    "with arcpy.da.SearchCursor(keycode, [\"COMMENT_1\", \"OBJECTID\", \"EVENT_DESC\", \"COMMENT\", \"CHAINAGE_START\", \"CHAINAGE_END\", \"LENGTH\", \"FRAME_START\", \"FRAME_END\"]) as cursor:\n",
    "    for row in cursor:\n",
    "        if \"*\" in row[0] and row[0].count(\"*\") > 1:\n",
    "            remarks = f\"Check for more than one decimal in quantity for object ID {row[1]} which is {row[0]}\"\n",
    "            qc_dict['ID'].append(row[1])\n",
    "            qc_dict['Remarks'].append(remarks)\n",
    "            print(remarks)\n",
    "\n",
    "        elif \"*\" in row[0] and row[0].count(\".\") > 2:\n",
    "            remarks = f\"Check for more than two decimals in quantity for object ID {row[1]} which is {row[0]}\"\n",
    "            qc_dict['ID'].append(row[1])\n",
    "            qc_dict['Remarks'].append(remarks)\n",
    "            print(remarks)\n",
    "\n",
    "        elif \"*\" not in row[0] and row[0].count(\".\") > 1:\n",
    "            remarks = f\"Check for more than one decimal in quantity for object ID {row[1]} which is {row[0]}\"\n",
    "            qc_dict['ID'].append(row[1])\n",
    "            qc_dict['Remarks'].append(remarks)\n",
    "            print(remarks)\n",
    "\n",
    "        elif row[2] not in (\"REMARKS\", \"PAVEMENT MARKING\") and row[3] == \"\":\n",
    "            remarks = f\"Check for missing severity for object ID {row[1]} which is {row[3]}\"\n",
    "            qc_dict['ID'].append(row[1])\n",
    "            qc_dict['Remarks'].append(remarks)\n",
    "            print(remarks)\n",
    "\n",
    "df_qc = pd.DataFrame(qc_dict)\n",
    "excel_file_path = r\"D:\\_1.Project\\AACM\\Pavement\\Excel Workbook\\Distress_Workbook\\QC_Distress.xlsx\"\n",
    "df_qc.to_excel(excel_file_path, index=False)  # Set index=False if you don't want row numbers in the Excel file\n",
    "\n",
    "print(f\"DataFrame successfully exported to Excel file: {excel_file_path}\")\n"
   ]
  }
 ],
 "metadata": {
  "kernelspec": {
   "display_name": "Python 3",
   "language": "python",
   "name": "python3"
  },
  "language_info": {
   "codemirror_mode": {
    "name": "ipython",
    "version": 3
   },
   "file_extension": ".py",
   "mimetype": "text/x-python",
   "name": "python",
   "nbconvert_exporter": "python",
   "pygments_lexer": "ipython3",
   "version": "3.7.10"
  }
 },
 "nbformat": 4,
 "nbformat_minor": 2
}
