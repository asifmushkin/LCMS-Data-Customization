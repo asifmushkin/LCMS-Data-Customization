{
 "cells": [
  {
   "cell_type": "markdown",
   "metadata": {},
   "source": [
    "## Extraction of gps from mdb's"
   ]
  },
  {
   "cell_type": "code",
   "execution_count": 1,
   "metadata": {},
   "outputs": [
    {
     "name": "stdout",
     "output_type": "stream",
     "text": [
      "6\n",
      "Successfully completed!!\n"
     ]
    }
   ],
   "source": [
    "import pyodbc,os,pandas as pd\n",
    "\n",
    "mdb_directory = r\"D:\\_2.Programming\\_6.test\\mdb_processed\" # input directory\n",
    "o_gps = r\"D:\\_2.Programming\\_6.test\\GPS.xlsx\" # output directory\n",
    "\n",
    "#defining function to read mdb's\n",
    "def read_mdb(x):\n",
    "    mdb_files = []\n",
    "    for root, dirs, files in os.walk(x):\n",
    "        for file in files:\n",
    "            if file.endswith(\".mdb\"):\n",
    "                mdb_files.append(os.path.join(root, file))\n",
    "    return mdb_files\n",
    "\n",
    "#defining function to read tables in mdb\n",
    "def read_tables_by_prefix(mdb_file, table_prefix):\n",
    "    conn_str = f\"Driver={{Microsoft Access Driver (*.mdb, *.accdb)}};Dbq={mdb_file};\"\n",
    "    connection = pyodbc.connect(conn_str)\n",
    "    cursor = connection.cursor()\n",
    "\n",
    "    tables = []\n",
    "    for table_info in cursor.tables(tableType='TABLE'):\n",
    "        table_name = table_info.table_name\n",
    "        if table_name.startswith(table_prefix):\n",
    "            tables.append(table_name)\n",
    "\n",
    "    data = pd.DataFrame()\n",
    "    for table in tables:\n",
    "        query = f\"SELECT * FROM [{table}]\"\n",
    "        table_data = pd.read_sql(query, connection)\n",
    "        table_data['Survey_ID_1'] = os.path.splitext(os.path.basename(mdb_file))[0]\n",
    "        data = pd.concat([data, table_data], ignore_index=True)\n",
    "\n",
    "    connection.close()\n",
    "    return data\n",
    "\n",
    "#calling function to read mdb's\n",
    "mdb_files = read_mdb(mdb_directory)\n",
    "\n",
    "#pandas data frame for storing extracted gps and keycode\n",
    "GPS_P = pd.DataFrame()\n",
    "\n",
    "#extracting and merging gps and keycode from mdb's \n",
    "for mdb_file in mdb_files:\n",
    "    gps = read_tables_by_prefix(mdb_file, \"dt_GPS_Processed\")\n",
    "    GPS_P = pd.concat([GPS_P, gps], ignore_index=True)\n",
    "\n",
    "#exporting gps and keycode from pandas data frame\n",
    "GPS_P.to_excel(o_gps, index=False)\n",
    "\n",
    "print(len(mdb_files))\n",
    "print(\"Successfully completed!!\")\n"
   ]
  }
 ],
 "metadata": {
  "kernelspec": {
   "display_name": "Python 3",
   "language": "python",
   "name": "python3"
  },
  "language_info": {
   "codemirror_mode": {
    "name": "ipython",
    "version": 3
   },
   "file_extension": ".py",
   "mimetype": "text/x-python",
   "name": "python",
   "nbconvert_exporter": "python",
   "pygments_lexer": "ipython3",
   "version": "3.11.2"
  }
 },
 "nbformat": 4,
 "nbformat_minor": 2
}
